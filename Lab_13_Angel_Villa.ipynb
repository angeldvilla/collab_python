{
  "nbformat": 4,
  "nbformat_minor": 0,
  "metadata": {
    "colab": {
      "provenance": [],
      "authorship_tag": "ABX9TyMkMoks6aB4Eyx3Uq5sVugs",
      "include_colab_link": true
    },
    "kernelspec": {
      "name": "python3",
      "display_name": "Python 3"
    },
    "language_info": {
      "name": "python"
    }
  },
  "cells": [
    {
      "cell_type": "markdown",
      "metadata": {
        "id": "view-in-github",
        "colab_type": "text"
      },
      "source": [
        "<a href=\"https://colab.research.google.com/github/angeldvilla/collab_python/blob/main/Lab_13_Angel_Villa.ipynb\" target=\"_parent\"><img src=\"https://colab.research.google.com/assets/colab-badge.svg\" alt=\"Open In Colab\"/></a>"
      ]
    },
    {
      "cell_type": "code",
      "execution_count": null,
      "metadata": {
        "colab": {
          "base_uri": "https://localhost:8080/"
        },
        "id": "P9hWvodHu1B4",
        "outputId": "56989094-e19a-455e-ed1e-6b306ae9517d"
      },
      "outputs": [
        {
          "output_type": "stream",
          "name": "stdout",
          "text": [
            "Accuracy: 0.0\n",
            "Ingrese el puntaje de matemáticas: 85\n",
            "Ingrese el puntaje de lenguaje: 72\n",
            "Ingrese el puntaje de razonamiento: 65\n",
            "El cargo predicho es: Asistente\n"
          ]
        }
      ],
      "source": [
        "# prompt: generar un modelo capaz de identificar un arbol de decisiones, donde se ingrese los valores de los resultados de un examen de admision en una empresa y clasifique según el resultado el tipo de cargo a ocupar\n",
        "\n",
        "import pandas as pd\n",
        "from sklearn.tree import DecisionTreeClassifier\n",
        "from sklearn.model_selection import train_test_split\n",
        "from sklearn.metrics import accuracy_score\n",
        "\n",
        "# Sample data (replace with your actual data)\n",
        "data = {\n",
        "    'Puntaje_Matematicas': [85, 70, 92, 60, 80, 75, 95, 65, 88, 72],\n",
        "    'Puntaje_Lenguaje': [78, 82, 90, 68, 75, 85, 92, 70, 80, 88],\n",
        "    'Puntaje_Razonamiento': [90, 75, 95, 65, 82, 80, 98, 72, 85, 78],\n",
        "    'Cargo': ['Analista', 'Asistente', 'Analista Senior', 'Asistente', 'Analista', 'Analista', 'Analista Senior', 'Asistente', 'Analista Senior', 'Analista']\n",
        "}\n",
        "\n",
        "df = pd.DataFrame(data)\n",
        "\n",
        "# Define features (X) and target variable (y)\n",
        "X = df[['Puntaje_Matematicas', 'Puntaje_Lenguaje', 'Puntaje_Razonamiento']]\n",
        "y = df['Cargo']\n",
        "\n",
        "# Split data into training and testing sets\n",
        "X_train, X_test, y_train, y_test = train_test_split(X, y, test_size=0.2, random_state=42)\n",
        "\n",
        "# Create and train the decision tree classifier\n",
        "model = DecisionTreeClassifier()\n",
        "model.fit(X_train, y_train)\n",
        "\n",
        "\n",
        "# Make predictions on the test set\n",
        "y_pred = model.predict(X_test)\n",
        "\n",
        "# Evaluate the model\n",
        "accuracy = accuracy_score(y_test, y_pred)\n",
        "print(f\"Accuracy: {accuracy}\")\n",
        "\n",
        "\n",
        "# Function to predict the job position\n",
        "def predecir_cargo(puntaje_matematicas, puntaje_lenguaje, puntaje_razonamiento):\n",
        "    nueva_instancia = pd.DataFrame([[puntaje_matematicas, puntaje_lenguaje, puntaje_razonamiento]],\n",
        "                                 columns=['Puntaje_Matematicas', 'Puntaje_Lenguaje', 'Puntaje_Razonamiento'])\n",
        "    prediccion = model.predict(nueva_instancia)[0]\n",
        "    return prediccion\n",
        "\n",
        "# Example usage:\n",
        "puntaje_matematicas = int(input(\"Ingrese el puntaje de matemáticas: \"))\n",
        "puntaje_lenguaje = int(input(\"Ingrese el puntaje de lenguaje: \"))\n",
        "puntaje_razonamiento = int(input(\"Ingrese el puntaje de razonamiento: \"))\n",
        "\n",
        "cargo_predicho = predecir_cargo(puntaje_matematicas, puntaje_lenguaje, puntaje_razonamiento)\n",
        "print(f\"El cargo predicho es: {cargo_predicho}\")"
      ]
    }
  ]
}