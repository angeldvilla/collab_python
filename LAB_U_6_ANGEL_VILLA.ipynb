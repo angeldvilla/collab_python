{
  "nbformat": 4,
  "nbformat_minor": 0,
  "metadata": {
    "colab": {
      "provenance": [],
      "authorship_tag": "ABX9TyOxedB9Rww+RBMQZeYAOAcr",
      "include_colab_link": true
    },
    "kernelspec": {
      "name": "python3",
      "display_name": "Python 3"
    },
    "language_info": {
      "name": "python"
    }
  },
  "cells": [
    {
      "cell_type": "markdown",
      "metadata": {
        "id": "view-in-github",
        "colab_type": "text"
      },
      "source": [
        "<a href=\"https://colab.research.google.com/github/angeldvilla/collab_python/blob/main/LAB_U_6_ANGEL_VILLA.ipynb\" target=\"_parent\"><img src=\"https://colab.research.google.com/assets/colab-badge.svg\" alt=\"Open In Colab\"/></a>"
      ]
    },
    {
      "cell_type": "code",
      "execution_count": 8,
      "metadata": {
        "colab": {
          "base_uri": "https://localhost:8080/"
        },
        "id": "3t06_5BhVx7B",
        "outputId": "267a540e-01d4-4676-db2e-aae74528a409"
      },
      "outputs": [
        {
          "output_type": "stream",
          "name": "stdout",
          "text": [
            "Hola soy Angel\n",
            "Tengo  20  años\n",
            "Mido 1.68\n",
            "Casa propia False\n"
          ]
        }
      ],
      "source": [
        "#Datos personales\n",
        "nombre = \"Angel\"\n",
        "edad = 20\n",
        "estatura = 1.68\n",
        "casa_propia = False\n",
        "\n",
        "#Imprimiendo los valores de las variables\n",
        "print(\"Hola soy\", nombre)\n",
        "print(\"Tengo \", edad, \" años\")\n",
        "print(\"Mido\", estatura)\n",
        "print(\"Casa propia\", casa_propia)"
      ]
    },
    {
      "cell_type": "code",
      "source": [
        "#Ingresar los datos\n",
        "invitado = input(\"Cual es tu nombre?\")\n",
        "edad = input(\"Que edad tienes?\")\n",
        "print(\"Hola \", invitado, \" es un placer conocerte!, tu edad es \", edad)\n"
      ],
      "metadata": {
        "colab": {
          "base_uri": "https://localhost:8080/"
        },
        "id": "-oZgkRahbXNm",
        "outputId": "350b0dd0-38e7-4354-bc9a-279d25b3aba3"
      },
      "execution_count": 12,
      "outputs": [
        {
          "output_type": "stream",
          "name": "stdout",
          "text": [
            "Cual es tu nombre?perencejo\n",
            "Que edad tienes?20\n",
            "Hola  perencejo  es un placer conocerte!, tu edad es  20\n"
          ]
        }
      ]
    },
    {
      "cell_type": "code",
      "source": [
        "#Operadores lógicos\n",
        "#--------------------------------------------\n",
        "num1 = int(input(\"Ingrese el primer valor\"))\n",
        "num2 = int(input(\"Ingrese el segundo valor\"))\n",
        "suma = num1 + num2;\n",
        "resta = num1 - num2;\n",
        "multiplicacion = num1 * num2;\n",
        "division = num1 / num2;\n",
        "\n",
        "print(\"\\n SUMA\")\n",
        "print(\"El resultado de la suma es: \", suma, \"\\n\")\n",
        "#--------------------------------------------\n",
        "print(\"RESTA\")\n",
        "print(\"El resultado de la resta es: \", resta, \"\\n\")\n",
        "#--------------------------------------------\n",
        "print(\"MULTIPLICACION\")\n",
        "print(\"El resultado de la multiplicacion es: \", multiplicacion, \"\\n\")\n",
        "#--------------------------------------------\n",
        "print(\"DIVISION\")\n",
        "print(\"El resultado de la division es: \", division)\n",
        "#--------------------------------------------"
      ],
      "metadata": {
        "colab": {
          "base_uri": "https://localhost:8080/"
        },
        "id": "fOVJDercgNQh",
        "outputId": "41163d85-f5df-48f3-f88a-8402e50d0d0f"
      },
      "execution_count": 21,
      "outputs": [
        {
          "output_type": "stream",
          "name": "stdout",
          "text": [
            "Ingrese el primer valor150\n",
            "Ingrese el segundo valor2\n",
            "\n",
            " SUMA\n",
            "El resultado de la suma es:  152 \n",
            "\n",
            "RESTA\n",
            "El resultado de la resta es:  148 \n",
            "\n",
            "MULTIPLICACION\n",
            "El resultado de la multiplicacion es:  300 \n",
            "\n",
            "DIVISION\n",
            "El resultado de la division es:  75.0\n"
          ]
        }
      ]
    },
    {
      "cell_type": "code",
      "source": [
        "#Condicionales\n",
        "edad = int(input(\"Cual es su edad?\"))\n",
        "\n",
        "if edad >= 18:\n",
        "  print(\"Puede ingresar!\")\n",
        "else:\n",
        "  print(\"No puede ingresar si es menor de edad\")\n",
        ""
      ],
      "metadata": {
        "colab": {
          "base_uri": "https://localhost:8080/"
        },
        "id": "-qO4gTBqkNVN",
        "outputId": "93ac1b82-58de-431a-97a0-9c4cf9c876f2"
      },
      "execution_count": 25,
      "outputs": [
        {
          "output_type": "stream",
          "name": "stdout",
          "text": [
            "Cual es su edad?20\n",
            "Puede ingresar!\n"
          ]
        }
      ]
    },
    {
      "cell_type": "code",
      "source": [
        "#Condicional anidado\n",
        "\n",
        "a = int(input(\"Ingrese el valor de A\"))\n",
        "b = int(input(\"Ingrese el valor de B\"))\n",
        "\n",
        "if a > b:\n",
        "  print(\"A es mayor que B\")\n",
        "elif b > a:\n",
        "  print(\"B es mayor que A\")\n",
        "else:\n",
        "  print(\"Son iguales\")"
      ],
      "metadata": {
        "colab": {
          "base_uri": "https://localhost:8080/"
        },
        "id": "R1QVZJDZnN2X",
        "outputId": "a1bfbca3-5979-4d5b-e429-ffc434610c7c"
      },
      "execution_count": 28,
      "outputs": [
        {
          "output_type": "stream",
          "name": "stdout",
          "text": [
            "Ingrese el valor de A25\n",
            "Ingrese el valor de B50\n",
            "B es mayor que A\n"
          ]
        }
      ]
    }
  ]
}