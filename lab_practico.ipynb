{
  "nbformat": 4,
  "nbformat_minor": 0,
  "metadata": {
    "colab": {
      "provenance": [],
      "authorship_tag": "ABX9TyNWfzV2VuFTK2IoQil0lLPu",
      "include_colab_link": true
    },
    "kernelspec": {
      "name": "python3",
      "display_name": "Python 3"
    },
    "language_info": {
      "name": "python"
    }
  },
  "cells": [
    {
      "cell_type": "markdown",
      "metadata": {
        "id": "view-in-github",
        "colab_type": "text"
      },
      "source": [
        "<a href=\"https://colab.research.google.com/github/angeldvilla/collab_python/blob/main/lab_practico.ipynb\" target=\"_parent\"><img src=\"https://colab.research.google.com/assets/colab-badge.svg\" alt=\"Open In Colab\"/></a>"
      ]
    },
    {
      "cell_type": "code",
      "execution_count": 5,
      "metadata": {
        "id": "2q61WsarbdMv"
      },
      "outputs": [],
      "source": [
        "#importar libreria para numero aleatorio\n",
        "import random"
      ]
    },
    {
      "cell_type": "code",
      "source": [
        "#funciones\n",
        "def generar_numero():\n",
        "  return random.randint(1,100)\n",
        "\n",
        "def adivina_el_numero():\n",
        "  num_secreto = generar_numero()\n",
        "  cont_intentos = 0\n",
        "  print(\"¡Bienvenido al juego adivina el numero! \\n Pensando un numero de 1 a 100 ... intenta adivinar cual es! \\n\")\n",
        "  intento = 0\n",
        "\n",
        "  while intento != num_secreto:\n",
        "    try:\n",
        "      intento = int(input(\"Adivina el numero: \"))\n",
        "      cont_intentos += 1\n",
        "      if intento == num_secreto:\n",
        "        print(\"Felicidades!!! encontraste el número que pense\", \"**\", str(num_secreto), \"** \\n Lo lograste en \", cont_intentos, \" intento(s)\")\n",
        "      elif intento > num_secreto:\n",
        "        print(\"El numero debe ser menor \\n\")\n",
        "      else:\n",
        "        print(\"El numero debe ser mayor \\n\")\n",
        "      continue\n",
        "    except ValueError:\n",
        "      print(\"Por favor, ingrese un número válido\")"
      ],
      "metadata": {
        "id": "u7fS4nFRb2zm"
      },
      "execution_count": 21,
      "outputs": []
    },
    {
      "cell_type": "code",
      "source": [
        "adivina_el_numero()"
      ],
      "metadata": {
        "colab": {
          "base_uri": "https://localhost:8080/"
        },
        "id": "7o4vKiUzb5Re",
        "outputId": "00e888ae-7111-4ba9-862c-5882d7d964e7"
      },
      "execution_count": 20,
      "outputs": [
        {
          "output_type": "stream",
          "name": "stdout",
          "text": [
            "¡Bienvenido al juego adivina el numero! \n",
            " Pensando un numero de 1 a 100 ... intenta adivinar cual es!\n",
            "Adivina el numero: 77\n",
            "El numero debe ser mayor \n",
            "\n",
            "Adivina el numero: 88\n",
            "El numero debe ser mayor \n",
            "\n",
            "Adivina el numero: 93\n",
            "El numero debe ser mayor \n",
            "\n",
            "Adivina el numero: 95\n",
            "El numero debe ser mayor \n",
            "\n",
            "Adivina el numero: 100\n",
            "El numero debe ser menor \n",
            "\n",
            "Adivina el numero: 99\n",
            "Felicidades!!! encontraste el número que pense ** 99 ** \n",
            " Lo lograste en  6  intento(s)\n"
          ]
        }
      ]
    }
  ]
}