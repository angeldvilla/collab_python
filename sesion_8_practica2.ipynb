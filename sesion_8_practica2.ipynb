{
  "nbformat": 4,
  "nbformat_minor": 0,
  "metadata": {
    "colab": {
      "provenance": [],
      "include_colab_link": true
    },
    "kernelspec": {
      "name": "python3",
      "display_name": "Python 3"
    }
  },
  "cells": [
    {
      "cell_type": "markdown",
      "metadata": {
        "id": "view-in-github",
        "colab_type": "text"
      },
      "source": [
        "<a href=\"https://colab.research.google.com/github/angeldvilla/collab_python/blob/main/sesion_8_practica2.ipynb\" target=\"_parent\"><img src=\"https://colab.research.google.com/assets/colab-badge.svg\" alt=\"Open In Colab\"/></a>"
      ]
    },
    {
      "cell_type": "code",
      "source": [
        "#ciclo for (para)\n",
        "for i in range(5):\n",
        "  print(i)\n",
        "\n",
        "print(\"----------------------------\")\n",
        "\n",
        "#ciclo while (mientras)\n",
        "i = 1\n",
        "while i <= 5:\n",
        "  print(i)\n",
        "  i+=1"
      ],
      "metadata": {
        "colab": {
          "base_uri": "https://localhost:8080/"
        },
        "id": "Qq-qwIFoBQxi",
        "outputId": "63911b0f-a00b-409f-c297-8e8f3cddf8d1"
      },
      "execution_count": 5,
      "outputs": [
        {
          "output_type": "stream",
          "name": "stdout",
          "text": [
            "0\n",
            "1\n",
            "2\n",
            "3\n",
            "4\n",
            "----------------------------\n",
            "1\n",
            "2\n",
            "3\n",
            "4\n",
            "5\n"
          ]
        }
      ]
    },
    {
      "cell_type": "code",
      "source": [
        "#funcion continue y break\n",
        "for i in range(10):\n",
        "  if i == 8:\n",
        "    break\n",
        "  if i % 2 == 0:\n",
        "    continue\n",
        "  print(i)"
      ],
      "metadata": {
        "colab": {
          "base_uri": "https://localhost:8080/"
        },
        "id": "759rI_EwER_y",
        "outputId": "b5e576a8-fc08-475b-99ed-e87c8afe2af8"
      },
      "execution_count": 15,
      "outputs": [
        {
          "output_type": "stream",
          "name": "stdout",
          "text": [
            "1\n",
            "3\n",
            "5\n",
            "7\n"
          ]
        }
      ]
    },
    {
      "cell_type": "code",
      "source": [
        "#listas y tuplas\n",
        "mi_lista = [1, 2, 3, 4, 5]\n",
        "mi_tupla = (5, 6, 7, 8)\n",
        "\n",
        "print(\"Valores de la lista:\", mi_lista)\n",
        "print(\"Valores de la tupla:\", mi_tupla)\n",
        "\n",
        "print(mi_lista[2])\n",
        "print(mi_tupla[3])"
      ],
      "metadata": {
        "colab": {
          "base_uri": "https://localhost:8080/"
        },
        "id": "9uQ78G3pGy6B",
        "outputId": "08ec968d-c97f-4185-e822-e531a048eb6f"
      },
      "execution_count": 28,
      "outputs": [
        {
          "output_type": "stream",
          "name": "stdout",
          "text": [
            "Valores de la lista: [1, 2, 3, 4, 5]\n",
            "Valores de la tupla: (5, 6, 7, 8)\n",
            "3\n",
            "8\n"
          ]
        }
      ]
    },
    {
      "cell_type": "code",
      "source": [
        "#funciones de lista\n",
        "frutas = [\"manzana\", \"banano\", \"papaya\"]\n",
        "print(\"Estas son las frutas disponibles: \", frutas, \"\\n\")\n",
        "\n",
        "#agregar elemento a la lista\n",
        "frutas.append(\"pera\")\n",
        "print(\"Nueva fruta agregada: \", frutas, \"\\n\")\n",
        "\n",
        "#agregar insert para añadir fruta en una posicion\n",
        "frutas.insert(1, \"granadilla\")\n",
        "print(\"Fruta agregada en la posicion 1\", frutas, \"\\n\")\n",
        "\n",
        "#eliminar un elemento de la lista\n",
        "frutas.remove(\"papaya\")\n",
        "print(\"Lista actualizada despues de eliminar\", frutas, \"\\n\")\n",
        "\n",
        "#eliminar el ultimo elemento de la lista\n",
        "ult_frut = frutas.pop()\n",
        "print(\"Ultimo elemento eliminado: \", ult_frut)\n",
        "print(\"Lista actualizada: \", frutas, \"\\n\")\n",
        "\n",
        "#ordenar lista sort()\n",
        "frutas.sort()\n",
        "print(\"Frutas ordenadas: \", frutas)\n",
        "\n",
        "#lista invertida\n",
        "frutas.reverse()\n",
        "print(\"Frutas invertidas: \", frutas)\n",
        "\n",
        "#contar apariciones de un elemento (count)\n",
        "frutas.append(\"manzana\")\n",
        "cont = frutas.count(\"manzana\")\n",
        "print(\"Lista actual\", frutas)\n",
        "print(\"La fruta aparece \", cont, \" veces\")\n",
        "\n",
        "#buscar la posicion de un valor (index)\n",
        "orden = frutas.index(\"banano\")\n",
        "print(\"orden de banano en la lista: \", orden)"
      ],
      "metadata": {
        "colab": {
          "base_uri": "https://localhost:8080/"
        },
        "id": "aMk1zJOHJC4v",
        "outputId": "a79edd06-3871-4998-8b1f-0fa80cc6b9e5"
      },
      "execution_count": 53,
      "outputs": [
        {
          "output_type": "stream",
          "name": "stdout",
          "text": [
            "Estas son las frutas disponibles:  ['manzana', 'banano', 'papaya'] \n",
            "\n",
            "Nueva fruta agregada:  ['manzana', 'banano', 'papaya', 'pera'] \n",
            "\n",
            "Fruta agregada en la posicion 1 ['manzana', 'granadilla', 'banano', 'papaya', 'pera'] \n",
            "\n",
            "Lista actualizada despues de eliminar ['manzana', 'granadilla', 'banano', 'pera'] \n",
            "\n",
            "Ultimo elemento eliminado:  pera\n",
            "Lista actualizada:  ['manzana', 'granadilla', 'banano'] \n",
            "\n",
            "Frutas ordenadas:  ['banano', 'granadilla', 'manzana']\n",
            "Frutas invertidas:  ['manzana', 'granadilla', 'banano']\n",
            "Lista actual ['manzana', 'granadilla', 'banano', 'manzana']\n",
            "La fruta aparece  2  veces\n",
            "orden de banano en la lista:  2\n"
          ]
        }
      ]
    },
    {
      "cell_type": "code",
      "source": [
        "#diccionario\n",
        "mi_diccionario = {\n",
        "    \"nombre\": \"ADVL\",\n",
        "    \"edad\": 20,\n",
        "}\n",
        "\n",
        "print(\"Su nombre es: \", mi_diccionario[\"nombre\"])\n",
        "print(\"Su edad es: \", mi_diccionario[\"edad\"])"
      ],
      "metadata": {
        "colab": {
          "base_uri": "https://localhost:8080/"
        },
        "id": "Uh94SFlgPHZL",
        "outputId": "1886ea57-6c21-4fb3-fec9-ac5cee45f69c"
      },
      "execution_count": 56,
      "outputs": [
        {
          "output_type": "stream",
          "name": "stdout",
          "text": [
            "Su nombre es:  ADVL\n",
            "Su edad es:  20\n"
          ]
        }
      ]
    },
    {
      "cell_type": "code",
      "source": [
        "#casting\n",
        "\n",
        "#nombre = str(input(\"Ingrese su nombre\"))\n",
        "#edad = int(input(\"Ingrese su edad\"))\n",
        "#estatura = float(input(\"Ingrese su estatura\"))\n",
        "\n",
        "#print(\"Los datos ingresados fueron \\n\", nombre, \"\\n\", edad, \"\\n\", estatura, \"\\n\")\n",
        "\n",
        "a = \"100\"\n",
        "b = int(a)\n",
        "c = b + 50\n",
        "print(c)\n",
        "\n",
        "#manejo de errores (try, except)\n",
        "try:\n",
        "  a = \"hola\"\n",
        "  b = int(a)\n",
        "  c = b + 50\n",
        "  print(c)\n",
        "except Exception as e:\n",
        "  print(\"Ocurrió un error\", e)"
      ],
      "metadata": {
        "colab": {
          "base_uri": "https://localhost:8080/"
        },
        "id": "0PteHqycP5GB",
        "outputId": "a1642bc3-5f0f-418d-91a1-30718a9f4166"
      },
      "execution_count": 65,
      "outputs": [
        {
          "output_type": "stream",
          "name": "stdout",
          "text": [
            "150\n",
            "Ocurrió un error invalid literal for int() with base 10: 'hola'\n"
          ]
        }
      ]
    },
    {
      "cell_type": "code",
      "source": [
        "#funciones\n"
      ],
      "metadata": {
        "id": "UvtLD1SFTUbL"
      },
      "execution_count": null,
      "outputs": []
    }
  ]
}